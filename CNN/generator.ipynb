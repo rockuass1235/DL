{
 "cells": [
  {
   "cell_type": "markdown",
   "metadata": {},
   "source": [
    "# Dataset & Batcher\n",
    "\n",
    "在圖形處理中最常遇到的問題就是記憶體爆掉，以前我們可以一次將所有資料一口氣載入記憶體中進行處理，但是在一個圖片1mb的情況下只要1000張就需要占用1G的記憶體，更別提資料筆數都是萬筆起跳，而一張4萬的RTX2080TI也不過11GB記憶體，如何做記憶體控制就是圖項資料預處理中最重要的工作。\n",
    "\n",
    "\n",
    "\n",
    "# ImageDataset\n",
    "\n",
    "我們都知道只要讀入圖像就要吃記憶體，但是我們在訓練的時候每次只有batch size大小資料會參與訓練，所以我們可以設計一個工具平常時以圖像路徑的方式保存資料，只有在把資料取出的時候才轉換成圖像格式，如此一來我們就可以大幅度的減少記憶體的佔用，這就是ImageDataset的功用。\n",
    "\n",
    "## parameter:\n",
    "\n",
    "* X: 圖片的路徑\n",
    "* Y: 圖片的標籤\n",
    "* transformer: 對圖片處理的轉換function\n",
    "\n",
    "\n",
    "# Batcher\n",
    "\n",
    "如果說Dataset是物質轉化器，那麼Batcher就是分堆器。**在keras的model.fit中x參數給的資料型別如果有繼承Sequence 或 Generator型別就可以使用迭代的方式進行訓練**。\n",
    "\n",
    "也就是接收一批批資料進行訓練，而不是一口氣讀入後在function內部自行分配成批次大小進行訓練。這樣的好處除了省記憶體外，我們可以透過給予transformer的方式每次對資料進行微調，幫助模型加速泛化減少過擬合。\n",
    "\n",
    "\n",
    "## parameter:\n",
    "\n",
    "* dataset: 資料集\n",
    "* batch size: batch大小\n",
    "* shuffle: 是否洗牌打亂"
   ]
  },
  {
   "cell_type": "code",
   "execution_count": 1,
   "metadata": {},
   "outputs": [],
   "source": [
    "import math\n",
    "import numpy as np\n",
    "import cv2\n",
    "from tensorflow.keras.utils import Sequence\n",
    "\n",
    "\n",
    "\n",
    "class ImageDataset:\n",
    "    def __init__(self, X, Y, transformer = lambda x:x):\n",
    "        self.X = X\n",
    "        self.Y = Y\n",
    "        self.transformer = transformer\n",
    "        \n",
    "    def __len__(self):\n",
    "        return len(self.Y)\n",
    "    def __getitem__(self, idx):\n",
    "        \n",
    "        # 將索引值對應的 image path取出\n",
    "        if isinstance(idx, int) or isinstance(idx, slice):\n",
    "            imgs = self.X[idx]\n",
    "            labels = self.Y[idx]\n",
    "        else:\n",
    "            imgs = [self.X[i] for i in idx]\n",
    "            labels = [self.Y[i] for i in idx]\n",
    "        \n",
    "        \n",
    "        # 將 image path 轉為 np.array格式並處理\n",
    "        if isinstance(imgs, list):\n",
    "            imgs = [cv2.imread(img) for img in imgs] # 讀取\n",
    "            imgs = [self.transformer(img) for img in imgs] # 轉換處理\n",
    "            imgs = [np.expand_dims(img, axis=0) for img in imgs] # shape: (h, w, 3)->(1, h, w, 3)\n",
    "            imgs = np.concatenate(imgs, axis=0) # 合併所有圖檔 shape變成: (batch size, h, w, 3)\n",
    "        else:\n",
    "            # 單張簡單處理\n",
    "            imgs = cv2.imread(imgs)\n",
    "            imgs = self.transformer(imgs)\n",
    "        \n",
    "        return np.array(imgs), np.array(labels)\n",
    "\n",
    "    \n",
    "    \n",
    "    \n",
    "\n",
    "class Batcher(Sequence):\n",
    "    def __init__(self, datasets, batch_size, shuffle=False):\n",
    "        self.datasets = datasets\n",
    "        self.batch_size = batch_size\n",
    "        self.indices = np.arange(0, len(self.datasets))\n",
    "        if shuffle:\n",
    "            np.random.shuffle(self.indices)\n",
    "    def __len__(self):\n",
    "        return math.ceil(len(self.datasets)/self.batch_size)\n",
    "    def __getitem__(self, idx):\n",
    "        indices = self.indices[idx*self.batch_size: (idx+1)*self.batch_size]\n",
    "        return self.datasets[indices]\n",
    "        \n",
    "        "
   ]
  },
  {
   "cell_type": "code",
   "execution_count": 2,
   "metadata": {},
   "outputs": [],
   "source": [
    "def one_hot(arr, n):\n",
    "    \n",
    "    m = np.zeros((len(arr), n))\n",
    "    \n",
    "    for i, e in enumerate(arr):\n",
    "        m[i][e] = 1\n",
    "    return m"
   ]
  },
  {
   "cell_type": "code",
   "execution_count": 3,
   "metadata": {},
   "outputs": [
    {
     "name": "stdout",
     "output_type": "stream",
     "text": [
      "(3, 128, 128, 3)\n",
      "[[0. 0. 0. 0. 0. 1. 0. 0. 0. 0. 0. 0. 0. 0. 0. 0. 0.]\n",
      " [0. 0. 0. 0. 0. 1. 0. 0. 0. 0. 0. 0. 0. 0. 0. 0. 0.]\n",
      " [0. 0. 0. 0. 0. 1. 0. 0. 0. 0. 0. 0. 0. 0. 0. 0. 0.]]\n"
     ]
    }
   ],
   "source": [
    "# 讀取資料改成ImageDataset格式\n",
    "\n",
    "import os\n",
    "\n",
    "\n",
    "\n",
    "db = 'datasets/17_flowers/'\n",
    "X = []\n",
    "Y = []\n",
    "\n",
    "for dirs in os.listdir(db):\n",
    "    if os.path.isdir(db+dirs+'/'):\n",
    "        label = dirs\n",
    "        for img in os.listdir(db+dirs+'/'):\n",
    "            X.append(db+dirs+'/'+img)\n",
    "            Y.append(int(label))\n",
    "            \n",
    "            \n",
    "transformer = lambda x:cv2.resize(x, (128, 128))\n",
    "\n",
    "datasets = ImageDataset(X, one_hot(Y, 17), transformer)\n",
    "\n",
    "imgs, labels = datasets[0:3]\n",
    "print(imgs.shape)\n",
    "print(labels)\n",
    "        \n"
   ]
  },
  {
   "cell_type": "code",
   "execution_count": 4,
   "metadata": {},
   "outputs": [
    {
     "name": "stdout",
     "output_type": "stream",
     "text": [
      "Model: \"sequential\"\n",
      "_________________________________________________________________\n",
      "Layer (type)                 Output Shape              Param #   \n",
      "=================================================================\n",
      "conv2d (Conv2D)              (None, 128, 128, 10)      280       \n",
      "_________________________________________________________________\n",
      "max_pooling2d (MaxPooling2D) (None, 64, 64, 10)        0         \n",
      "_________________________________________________________________\n",
      "conv2d_1 (Conv2D)            (None, 64, 64, 20)        1820      \n",
      "_________________________________________________________________\n",
      "max_pooling2d_1 (MaxPooling2 (None, 32, 32, 20)        0         \n",
      "_________________________________________________________________\n",
      "conv2d_2 (Conv2D)            (None, 32, 32, 40)        7240      \n",
      "_________________________________________________________________\n",
      "max_pooling2d_2 (MaxPooling2 (None, 16, 16, 40)        0         \n",
      "_________________________________________________________________\n",
      "flatten (Flatten)            (None, 10240)             0         \n",
      "_________________________________________________________________\n",
      "dense (Dense)                (None, 17)                174097    \n",
      "=================================================================\n",
      "Total params: 183,437\n",
      "Trainable params: 183,437\n",
      "Non-trainable params: 0\n",
      "_________________________________________________________________\n"
     ]
    }
   ],
   "source": [
    "# 建立模型\n",
    "\n",
    "from tensorflow.keras import models, layers\n",
    "\n",
    "\n",
    "net = models.Sequential()\n",
    "\n",
    "net.add(layers.Conv2D(10, kernel_size=(3, 3), padding='same', activation='relu', input_shape=(128,128,3)))\n",
    "net.add(layers.MaxPooling2D(pool_size=2))\n",
    "net.add(layers.Conv2D(20, kernel_size=(3, 3), padding='same', activation='relu'))\n",
    "net.add(layers.MaxPooling2D(pool_size=2))\n",
    "net.add(layers.Conv2D(40, kernel_size=(3, 3), padding='same', activation='relu'))\n",
    "net.add(layers.MaxPooling2D(pool_size=2))\n",
    "net.add(layers.Flatten())\n",
    "net.add(layers.Dense(17, activation='softmax'))\n",
    "\n",
    "net.summary()"
   ]
  },
  {
   "cell_type": "code",
   "execution_count": 5,
   "metadata": {
    "scrolled": true
   },
   "outputs": [
    {
     "name": "stdout",
     "output_type": "stream",
     "text": [
      "WARNING:tensorflow:sample_weight modes were coerced from\n",
      "  ...\n",
      "    to  \n",
      "  ['...']\n",
      "Train for 68 steps\n",
      "Epoch 1/10\n",
      "68/68 [==============================] - 4s 58ms/step - loss: 16.2387 - categorical_accuracy: 0.2544\n",
      "Epoch 2/10\n",
      "68/68 [==============================] - 4s 53ms/step - loss: 1.3392 - categorical_accuracy: 0.5831\n",
      "Epoch 3/10\n",
      "68/68 [==============================] - 4s 52ms/step - loss: 0.5822 - categorical_accuracy: 0.8346\n",
      "Epoch 4/10\n",
      "68/68 [==============================] - 4s 53ms/step - loss: 0.3556 - categorical_accuracy: 0.9279\n",
      "Epoch 5/10\n",
      "68/68 [==============================] - 4s 53ms/step - loss: 0.1384 - categorical_accuracy: 0.9662\n",
      "Epoch 6/10\n",
      "68/68 [==============================] - 4s 53ms/step - loss: 0.2351 - categorical_accuracy: 0.9706\n",
      "Epoch 7/10\n",
      "68/68 [==============================] - 4s 53ms/step - loss: 0.3443 - categorical_accuracy: 0.9691\n",
      "Epoch 8/10\n",
      "68/68 [==============================] - 4s 53ms/step - loss: 0.2783 - categorical_accuracy: 0.9647\n",
      "Epoch 9/10\n",
      "68/68 [==============================] - 4s 53ms/step - loss: 0.2693 - categorical_accuracy: 0.9765\n",
      "Epoch 10/10\n",
      "68/68 [==============================] - 4s 53ms/step - loss: 0.0198 - categorical_accuracy: 0.9956\n"
     ]
    },
    {
     "data": {
      "text/plain": [
       "<tensorflow.python.keras.callbacks.History at 0x7f5a18136150>"
      ]
     },
     "execution_count": 5,
     "metadata": {},
     "output_type": "execute_result"
    }
   ],
   "source": [
    "# 開始訓練\n",
    "\n",
    "from tensorflow.keras import metrics\n",
    "\n",
    "batcher = Batcher(datasets, 20, shuffle=True)\n",
    "net.compile(optimizer='rmsprop', loss='categorical_crossentropy', metrics=[metrics.categorical_accuracy])\n",
    "net.fit(x=batcher, epochs=10)"
   ]
  },
  {
   "cell_type": "code",
   "execution_count": null,
   "metadata": {},
   "outputs": [],
   "source": []
  }
 ],
 "metadata": {
  "kernelspec": {
   "display_name": "Python 3",
   "language": "python",
   "name": "python3"
  },
  "language_info": {
   "codemirror_mode": {
    "name": "ipython",
    "version": 3
   },
   "file_extension": ".py",
   "mimetype": "text/x-python",
   "name": "python",
   "nbconvert_exporter": "python",
   "pygments_lexer": "ipython3",
   "version": "3.7.7"
  }
 },
 "nbformat": 4,
 "nbformat_minor": 4
}
